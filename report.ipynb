{
 "cells": [
  {
   "cell_type": "markdown",
   "metadata": {},
   "source": [
    "## Library Import"
   ]
  },
  {
   "cell_type": "code",
   "execution_count": 1,
   "metadata": {},
   "outputs": [],
   "source": [
    "from pathlib import Path\n",
    "import pandas as pd\n",
    "import matplotlib.pyplot as plt\n",
    "import seaborn as sns\n",
    "import numpy as np\n",
    "from sklearn.tree import DecisionTreeClassifier\n",
    "from sklearn.ensemble import RandomForestClassifier\n",
    "from sklearn.linear_model import LogisticRegression\n",
    "from sklearn.metrics import classification_report\n",
    "from sklearn.metrics import f1_score\n",
    "from sklearn.model_selection import GridSearchCV"
   ]
  },
  {
   "cell_type": "markdown",
   "metadata": {},
   "source": [
    "## Loading data and handling null values\n",
    "\n",
    "Luckily, there is no null values in training and testing data (except 1 null in 'comment' column of training but the column won't be used so it's not a problem). I removed some columns that I strongly believe not useful for the analysis, i.e. \"_unit_id\", \"comment\", and \"_trusted_judgements'. I also change the type of \"generalisation_unfair\" from float64 (0.0 and 1.0) to boolean value (0 and 1). "
   ]
  },
  {
   "cell_type": "code",
   "execution_count": 2,
   "metadata": {},
   "outputs": [
    {
     "name": "stdout",
     "output_type": "stream",
     "text": [
      "Train shape: (35503, 19)\n",
      "Test shape: (4425, 19)\n"
     ]
    },
    {
     "data": {
      "text/html": [
       "<div>\n",
       "<style scoped>\n",
       "    .dataframe tbody tr th:only-of-type {\n",
       "        vertical-align: middle;\n",
       "    }\n",
       "\n",
       "    .dataframe tbody tr th {\n",
       "        vertical-align: top;\n",
       "    }\n",
       "\n",
       "    .dataframe thead th {\n",
       "        text-align: right;\n",
       "    }\n",
       "</style>\n",
       "<table border=\"1\" class=\"dataframe\">\n",
       "  <thead>\n",
       "    <tr style=\"text-align: right;\">\n",
       "      <th></th>\n",
       "      <th>antagonise</th>\n",
       "      <th>antagonise:confidence</th>\n",
       "      <th>condescending</th>\n",
       "      <th>condescending:confidence</th>\n",
       "      <th>dismissive</th>\n",
       "      <th>dismissive:confidence</th>\n",
       "      <th>generalisation</th>\n",
       "      <th>generalisation:confidence</th>\n",
       "      <th>generalisation_unfair</th>\n",
       "      <th>generalisation_unfair:confidence</th>\n",
       "      <th>healthy:confidence</th>\n",
       "      <th>hostile</th>\n",
       "      <th>hostile:confidence</th>\n",
       "      <th>sarcastic</th>\n",
       "      <th>sarcastic:confidence</th>\n",
       "    </tr>\n",
       "  </thead>\n",
       "  <tbody>\n",
       "    <tr>\n",
       "      <th>0</th>\n",
       "      <td>1</td>\n",
       "      <td>0.5816</td>\n",
       "      <td>1</td>\n",
       "      <td>0.5816</td>\n",
       "      <td>1</td>\n",
       "      <td>0.5816</td>\n",
       "      <td>0</td>\n",
       "      <td>1.0</td>\n",
       "      <td>0</td>\n",
       "      <td>1.0</td>\n",
       "      <td>0.5816</td>\n",
       "      <td>1</td>\n",
       "      <td>0.5816</td>\n",
       "      <td>0</td>\n",
       "      <td>0.8001</td>\n",
       "    </tr>\n",
       "    <tr>\n",
       "      <th>1</th>\n",
       "      <td>0</td>\n",
       "      <td>1.0000</td>\n",
       "      <td>0</td>\n",
       "      <td>1.0000</td>\n",
       "      <td>0</td>\n",
       "      <td>1.0000</td>\n",
       "      <td>0</td>\n",
       "      <td>1.0</td>\n",
       "      <td>0</td>\n",
       "      <td>1.0</td>\n",
       "      <td>0.7981</td>\n",
       "      <td>0</td>\n",
       "      <td>1.0000</td>\n",
       "      <td>0</td>\n",
       "      <td>1.0000</td>\n",
       "    </tr>\n",
       "    <tr>\n",
       "      <th>2</th>\n",
       "      <td>0</td>\n",
       "      <td>1.0000</td>\n",
       "      <td>0</td>\n",
       "      <td>0.8063</td>\n",
       "      <td>0</td>\n",
       "      <td>1.0000</td>\n",
       "      <td>0</td>\n",
       "      <td>1.0</td>\n",
       "      <td>0</td>\n",
       "      <td>1.0</td>\n",
       "      <td>0.6081</td>\n",
       "      <td>0</td>\n",
       "      <td>1.0000</td>\n",
       "      <td>0</td>\n",
       "      <td>0.8063</td>\n",
       "    </tr>\n",
       "    <tr>\n",
       "      <th>3</th>\n",
       "      <td>0</td>\n",
       "      <td>0.7931</td>\n",
       "      <td>0</td>\n",
       "      <td>0.5959</td>\n",
       "      <td>0</td>\n",
       "      <td>0.5959</td>\n",
       "      <td>0</td>\n",
       "      <td>1.0</td>\n",
       "      <td>0</td>\n",
       "      <td>1.0</td>\n",
       "      <td>0.7917</td>\n",
       "      <td>0</td>\n",
       "      <td>1.0000</td>\n",
       "      <td>0</td>\n",
       "      <td>0.6052</td>\n",
       "    </tr>\n",
       "    <tr>\n",
       "      <th>4</th>\n",
       "      <td>0</td>\n",
       "      <td>1.0000</td>\n",
       "      <td>0</td>\n",
       "      <td>1.0000</td>\n",
       "      <td>0</td>\n",
       "      <td>1.0000</td>\n",
       "      <td>0</td>\n",
       "      <td>1.0</td>\n",
       "      <td>0</td>\n",
       "      <td>1.0</td>\n",
       "      <td>1.0000</td>\n",
       "      <td>0</td>\n",
       "      <td>1.0000</td>\n",
       "      <td>0</td>\n",
       "      <td>1.0000</td>\n",
       "    </tr>\n",
       "  </tbody>\n",
       "</table>\n",
       "</div>"
      ],
      "text/plain": [
       "   antagonise  antagonise:confidence  condescending  condescending:confidence  \\\n",
       "0           1                 0.5816              1                    0.5816   \n",
       "1           0                 1.0000              0                    1.0000   \n",
       "2           0                 1.0000              0                    0.8063   \n",
       "3           0                 0.7931              0                    0.5959   \n",
       "4           0                 1.0000              0                    1.0000   \n",
       "\n",
       "   dismissive  dismissive:confidence  generalisation  \\\n",
       "0           1                 0.5816               0   \n",
       "1           0                 1.0000               0   \n",
       "2           0                 1.0000               0   \n",
       "3           0                 0.5959               0   \n",
       "4           0                 1.0000               0   \n",
       "\n",
       "   generalisation:confidence  generalisation_unfair  \\\n",
       "0                        1.0                      0   \n",
       "1                        1.0                      0   \n",
       "2                        1.0                      0   \n",
       "3                        1.0                      0   \n",
       "4                        1.0                      0   \n",
       "\n",
       "   generalisation_unfair:confidence  healthy:confidence  hostile  \\\n",
       "0                               1.0              0.5816        1   \n",
       "1                               1.0              0.7981        0   \n",
       "2                               1.0              0.6081        0   \n",
       "3                               1.0              0.7917        0   \n",
       "4                               1.0              1.0000        0   \n",
       "\n",
       "   hostile:confidence  sarcastic  sarcastic:confidence  \n",
       "0              0.5816          0                0.8001  \n",
       "1              1.0000          0                1.0000  \n",
       "2              1.0000          0                0.8063  \n",
       "3              1.0000          0                0.6052  \n",
       "4              1.0000          0                1.0000  "
      ]
     },
     "execution_count": 2,
     "metadata": {},
     "output_type": "execute_result"
    }
   ],
   "source": [
    "data_dir = Path(\"../corpus/\")\n",
    "img_dir = Path(\"../img\")\n",
    "\n",
    "# Load data\n",
    "train = pd.read_csv(data_dir / \"train.csv\")\n",
    "test = pd.read_csv(data_dir / \"test.csv\")\n",
    "print(\"Train shape:\", train.shape)\n",
    "print(\"Test shape:\", test.shape)\n",
    "\n",
    "# Check null values\n",
    "train.isnull().sum()\n",
    "test.isnull().sum()\n",
    "# No null values for training and testing data\n",
    "\n",
    "# Getting training and testing data, Drop unit_id, _trusted_judgments, comment variable since they are not helpful for analysis\n",
    "X_train = train.drop(['_unit_id','comment', '_trusted_judgments', 'healthy'], axis=1)\n",
    "y_train = train['healthy']\n",
    "X_test = test.drop(['_unit_id','comment', '_trusted_judgments', 'healthy'], axis=1)\n",
    "y_test = test['healthy']\n",
    "\n",
    "X_train['generalisation_unfair'] = X_train['generalisation_unfair'].astype('int64')\n",
    "X_test['generalisation_unfair'] = X_test['generalisation_unfair'].astype('int64')\n",
    "\n",
    "X_train.head()"
   ]
  },
  {
   "cell_type": "markdown",
   "metadata": {},
   "source": [
    "## EDA"
   ]
  },
  {
   "cell_type": "code",
   "execution_count": 3,
   "metadata": {
    "scrolled": true
   },
   "outputs": [
    {
     "data": {
      "image/png": "[encoded data removed]",
      "text/plain": [
       "<Figure size 432x288 with 1 Axes>"
      ]
     },
     "metadata": {
      "needs_background": "light"
     },
     "output_type": "display_data"
    },
    {
     "data": {
      "image/png": "[encoded data removed]",
      "text/plain": [
       "<Figure size 432x288 with 1 Axes>"
      ]
     },
     "metadata": {
      "needs_background": "light"
     },
     "output_type": "display_data"
    },
    {
     "data": {
      "image/png": "[encoded data removed]",
      "text/plain": [
       "<Figure size 432x288 with 1 Axes>"
      ]
     },
     "metadata": {
      "needs_background": "light"
     },
     "output_type": "display_data"
    },
    {
     "data": {
      "image/png": "[encoded data removed]",
      "text/plain": [
       "<Figure size 432x288 with 1 Axes>"
      ]
     },
     "metadata": {
      "needs_background": "light"
     },
     "output_type": "display_data"
    },
    {
     "data": {
      "image/png": "[encoded data removed]",
      "text/plain": [
       "<Figure size 432x288 with 1 Axes>"
      ]
     },
     "metadata": {
      "needs_background": "light"
     },
     "output_type": "display_data"
    },
    {
     "data": {
      "image/png": "[encoded data removed]",
      "text/plain": [
       "<Figure size 432x288 with 1 Axes>"
      ]
     },
     "metadata": {
      "needs_background": "light"
     },
     "output_type": "display_data"
    },
    {
     "data": {
      "image/png": "[encoded data removed]",
      "text/plain": [
       "<Figure size 432x288 with 1 Axes>"
      ]
     },
     "metadata": {
      "needs_background": "light"
     },
     "output_type": "display_data"
    }
   ],
   "source": [
    "features = [\"antagonise\", \"condescending\", \"dismissive\", \"generalisation\", \"generalisation_unfair\", \"hostile\", \"sarcastic\"]\n",
    "for col in features:\n",
    "    X_train[col].value_counts().plot(kind=\"bar\")\n",
    "    plt.title(col)\n",
    "    plt.show()"
   ]
  },
  {
   "cell_type": "code",
   "execution_count": 4,
   "metadata": {},
   "outputs": [
    {
     "data": {
      "text/html": [
       "<div>\n",
       "<style scoped>\n",
       "    .dataframe tbody tr th:only-of-type {\n",
       "        vertical-align: middle;\n",
       "    }\n",
       "\n",
       "    .dataframe tbody tr th {\n",
       "        vertical-align: top;\n",
       "    }\n",
       "\n",
       "    .dataframe thead th {\n",
       "        text-align: right;\n",
       "    }\n",
       "</style>\n",
       "<table border=\"1\" class=\"dataframe\">\n",
       "  <thead>\n",
       "    <tr style=\"text-align: right;\">\n",
       "      <th></th>\n",
       "      <th>antagonise:confidence</th>\n",
       "      <th>condescending:confidence</th>\n",
       "      <th>dismissive:confidence</th>\n",
       "      <th>generalisation:confidence</th>\n",
       "      <th>generalisation_unfair:confidence</th>\n",
       "      <th>healthy:confidence</th>\n",
       "      <th>hostile:confidence</th>\n",
       "      <th>sarcastic:confidence</th>\n",
       "    </tr>\n",
       "  </thead>\n",
       "  <tbody>\n",
       "    <tr>\n",
       "      <th>count</th>\n",
       "      <td>35503.000000</td>\n",
       "      <td>35503.000000</td>\n",
       "      <td>35503.000000</td>\n",
       "      <td>35503.000000</td>\n",
       "      <td>35503.000000</td>\n",
       "      <td>35503.000000</td>\n",
       "      <td>35503.000000</td>\n",
       "      <td>35503.000000</td>\n",
       "    </tr>\n",
       "    <tr>\n",
       "      <th>mean</th>\n",
       "      <td>0.935671</td>\n",
       "      <td>0.929935</td>\n",
       "      <td>0.939790</td>\n",
       "      <td>0.960473</td>\n",
       "      <td>0.978715</td>\n",
       "      <td>0.888247</td>\n",
       "      <td>0.950006</td>\n",
       "      <td>0.933269</td>\n",
       "    </tr>\n",
       "    <tr>\n",
       "      <th>std</th>\n",
       "      <td>0.126049</td>\n",
       "      <td>0.129269</td>\n",
       "      <td>0.120491</td>\n",
       "      <td>0.100016</td>\n",
       "      <td>0.128954</td>\n",
       "      <td>0.153593</td>\n",
       "      <td>0.110633</td>\n",
       "      <td>0.125645</td>\n",
       "    </tr>\n",
       "    <tr>\n",
       "      <th>min</th>\n",
       "      <td>0.500000</td>\n",
       "      <td>0.500000</td>\n",
       "      <td>0.500000</td>\n",
       "      <td>0.500100</td>\n",
       "      <td>0.000000</td>\n",
       "      <td>0.500300</td>\n",
       "      <td>0.500300</td>\n",
       "      <td>0.500800</td>\n",
       "    </tr>\n",
       "    <tr>\n",
       "      <th>25%</th>\n",
       "      <td>1.000000</td>\n",
       "      <td>0.844500</td>\n",
       "      <td>1.000000</td>\n",
       "      <td>1.000000</td>\n",
       "      <td>1.000000</td>\n",
       "      <td>0.790600</td>\n",
       "      <td>1.000000</td>\n",
       "      <td>1.000000</td>\n",
       "    </tr>\n",
       "    <tr>\n",
       "      <th>50%</th>\n",
       "      <td>1.000000</td>\n",
       "      <td>1.000000</td>\n",
       "      <td>1.000000</td>\n",
       "      <td>1.000000</td>\n",
       "      <td>1.000000</td>\n",
       "      <td>1.000000</td>\n",
       "      <td>1.000000</td>\n",
       "      <td>1.000000</td>\n",
       "    </tr>\n",
       "    <tr>\n",
       "      <th>75%</th>\n",
       "      <td>1.000000</td>\n",
       "      <td>1.000000</td>\n",
       "      <td>1.000000</td>\n",
       "      <td>1.000000</td>\n",
       "      <td>1.000000</td>\n",
       "      <td>1.000000</td>\n",
       "      <td>1.000000</td>\n",
       "      <td>1.000000</td>\n",
       "    </tr>\n",
       "    <tr>\n",
       "      <th>max</th>\n",
       "      <td>1.000000</td>\n",
       "      <td>1.000000</td>\n",
       "      <td>1.000000</td>\n",
       "      <td>1.000000</td>\n",
       "      <td>1.000000</td>\n",
       "      <td>1.000000</td>\n",
       "      <td>1.000000</td>\n",
       "      <td>1.000000</td>\n",
       "    </tr>\n",
       "  </tbody>\n",
       "</table>\n",
       "</div>"
      ],
      "text/plain": [
       "       antagonise:confidence  condescending:confidence  dismissive:confidence  \\\n",
       "count           35503.000000              35503.000000           35503.000000   \n",
       "mean                0.935671                  0.929935               0.939790   \n",
       "std                 0.126049                  0.129269               0.120491   \n",
       "min                 0.500000                  0.500000               0.500000   \n",
       "25%                 1.000000                  0.844500               1.000000   \n",
       "50%                 1.000000                  1.000000               1.000000   \n",
       "75%                 1.000000                  1.000000               1.000000   \n",
       "max                 1.000000                  1.000000               1.000000   \n",
       "\n",
       "       generalisation:confidence  generalisation_unfair:confidence  \\\n",
       "count               35503.000000                      35503.000000   \n",
       "mean                    0.960473                          0.978715   \n",
       "std                     0.100016                          0.128954   \n",
       "min                     0.500100                          0.000000   \n",
       "25%                     1.000000                          1.000000   \n",
       "50%                     1.000000                          1.000000   \n",
       "75%                     1.000000                          1.000000   \n",
       "max                     1.000000                          1.000000   \n",
       "\n",
       "       healthy:confidence  hostile:confidence  sarcastic:confidence  \n",
       "count        35503.000000        35503.000000          35503.000000  \n",
       "mean             0.888247            0.950006              0.933269  \n",
       "std              0.153593            0.110633              0.125645  \n",
       "min              0.500300            0.500300              0.500800  \n",
       "25%              0.790600            1.000000              1.000000  \n",
       "50%              1.000000            1.000000              1.000000  \n",
       "75%              1.000000            1.000000              1.000000  \n",
       "max              1.000000            1.000000              1.000000  "
      ]
     },
     "execution_count": 4,
     "metadata": {},
     "output_type": "execute_result"
    }
   ],
   "source": [
    "X_train.select_dtypes(include=[np.float64]).describe()"
   ]
  },
  {
   "cell_type": "code",
   "execution_count": 5,
   "metadata": {
    "scrolled": false
   },
   "outputs": [
    {
     "data": {
      "text/plain": [
       "Text(0.5, 1.0, 'y_train class distribution')"
      ]
     },
     "execution_count": 5,
     "metadata": {},
     "output_type": "execute_result"
    },
    {
     "data": {
      "image/png": "[encoded data removed]",
      "text/plain": [
       "<Figure size 432x288 with 1 Axes>"
      ]
     },
     "metadata": {
      "needs_background": "light"
     },
     "output_type": "display_data"
    }
   ],
   "source": [
    "y_train.value_counts().plot(kind='bar')\n",
    "plt.title(\"y_train class distribution\")"
   ]
  },
  {
   "cell_type": "markdown",
   "metadata": {},
   "source": [
    "**Comment**: *It is clear that the target variable has a severe imbalance: there are much more healthy comments than unhealthy ones, while what we want the model to detect is unhealthy comment.* "
   ]
  },
  {
   "cell_type": "markdown",
   "metadata": {},
   "source": [
    "## Building Model\n",
    "Since imbalanced class distribution exists, F1-score is a better metric to evaluate the models on. I also look at the recall of 0 (i.e. the percentage of unhealthy detected by the model among the actual unhealthy comments). \n",
    "\n",
    "### 1. Logistic Regression "
   ]
  },
  {
   "cell_type": "code",
   "execution_count": 6,
   "metadata": {
    "scrolled": false
   },
   "outputs": [
    {
     "name": "stdout",
     "output_type": "stream",
     "text": [
      "              precision    recall  f1-score   support\n",
      "\n",
      "           0       0.66      0.41      0.50       320\n",
      "           1       0.96      0.98      0.97      4105\n",
      "\n",
      "    accuracy                           0.94      4425\n",
      "   macro avg       0.81      0.70      0.74      4425\n",
      "weighted avg       0.93      0.94      0.94      4425\n",
      "\n",
      "F1_score:  0.9691513623814668\n"
     ]
    }
   ],
   "source": [
    "lr = LogisticRegression()\n",
    "lr.fit(X_train, y_train)\n",
    "print(classification_report(y_test, lr.predict(X_test)))\n",
    "print(\"F1_score: \", f1_score(y_test, lr.predict(X_test)))"
   ]
  },
  {
   "cell_type": "markdown",
   "metadata": {},
   "source": [
    "**Comment:** *Logistic Regression model works pretty well, but the recall is only 0.41, which means that only 41% of unhealthy comments are detected using this model. Will see if for other models, recall is higher.*"
   ]
  },
  {
   "cell_type": "markdown",
   "metadata": {},
   "source": [
    "### 2. Decision Tree"
   ]
  },
  {
   "cell_type": "code",
   "execution_count": 7,
   "metadata": {},
   "outputs": [
    {
     "name": "stdout",
     "output_type": "stream",
     "text": [
      "              precision    recall  f1-score   support\n",
      "\n",
      "           0       0.60      0.58      0.59       320\n",
      "           1       0.97      0.97      0.97      4105\n",
      "\n",
      "    accuracy                           0.94      4425\n",
      "   macro avg       0.78      0.78      0.78      4425\n",
      "weighted avg       0.94      0.94      0.94      4425\n",
      "\n",
      "F1 score:  0.9686131386861314\n"
     ]
    }
   ],
   "source": [
    "dtc = DecisionTreeClassifier(random_state=42)\n",
    "dtc.fit(X_train, y_train)\n",
    "print(classification_report(y_test, dtc.predict(X_test)))\n",
    "print(\"F1 score: \", f1_score(y_test, dtc.predict(X_test)))"
   ]
  },
  {
   "cell_type": "markdown",
   "metadata": {},
   "source": [
    "**Comment**: *Though F1 score is slightly lower (yet still very good), Decision Tree has much higher recall and f1-score for class 0. I chose Decision Tree over LR to tune hyper-parameters.*"
   ]
  },
  {
   "cell_type": "markdown",
   "metadata": {},
   "source": [
    "### 3. Tuning model"
   ]
  },
  {
   "cell_type": "code",
   "execution_count": 8,
   "metadata": {},
   "outputs": [
    {
     "data": {
      "text/plain": [
       "GridSearchCV(estimator=DecisionTreeClassifier(random_state=42),\n",
       "             param_grid={'class_weight': [None, 'balanced'],\n",
       "                         'criterion': ['gini'],\n",
       "                         'max_depth': [2, 5, 10, 20, 50, 100, 1000],\n",
       "                         'max_features': ['auto', 'sqrt', 'log2'],\n",
       "                         'min_samples_leaf': [1, 2, 3, 5],\n",
       "                         'min_samples_split': [2, 5, 8], 'splitter': ['best']})"
      ]
     },
     "execution_count": 8,
     "metadata": {},
     "output_type": "execute_result"
    }
   ],
   "source": [
    "tree_grid = {\n",
    "    \"criterion\": [\"gini\"],\n",
    "    \"splitter\": [\"best\"],\n",
    "    \"max_depth\": [2, 5, 10, 20, 50, 100, 1000],\n",
    "    \"min_samples_split\": [2, 5, 8],\n",
    "    \"min_samples_leaf\": [1, 2, 3, 5],\n",
    "    \"max_features\": [\"auto\", \"sqrt\", \"log2\"],\n",
    "    \"class_weight\": [None, \"balanced\"],\n",
    "    \"splitter\": [\"best\"]\n",
    "}\n",
    "\n",
    "grid_model = GridSearchCV(\n",
    "    estimator=DecisionTreeClassifier(random_state=42),\n",
    "    param_grid=tree_grid,\n",
    "    refit = True\n",
    ")\n",
    "\n",
    "grid_model.fit(X_train, y_train)"
   ]
  },
  {
   "cell_type": "code",
   "execution_count": 9,
   "metadata": {},
   "outputs": [
    {
     "name": "stdout",
     "output_type": "stream",
     "text": [
      "              precision    recall  f1-score   support\n",
      "\n",
      "           0       0.67      0.44      0.53       320\n",
      "           1       0.96      0.98      0.97      4105\n",
      "\n",
      "    accuracy                           0.94      4425\n",
      "   macro avg       0.82      0.71      0.75      4425\n",
      "weighted avg       0.94      0.94      0.94      4425\n",
      "\n",
      "0.9701994712809421\n",
      "{'class_weight': None, 'criterion': 'gini', 'max_depth': 10, 'max_features': 'auto', 'min_samples_leaf': 5, 'min_samples_split': 2, 'splitter': 'best'}\n"
     ]
    }
   ],
   "source": [
    "print(classification_report(y_test, grid_model.predict(X_test)))\n",
    "print(f1_score(y_test, grid_model.predict(X_test)))\n",
    "print(grid_model.best_params_)"
   ]
  },
  {
   "cell_type": "markdown",
   "metadata": {},
   "source": [
    "**Comment:** *F1-score is higher after tuning the decision tree model, however the recall for class 0 is much slower (0.44 compared to 0.58).* "
   ]
  },
  {
   "cell_type": "code",
   "execution_count": 10,
   "metadata": {},
   "outputs": [
    {
     "data": {
      "image/png": "[encoded data removed]",
      "text/plain": [
       "<Figure size 432x288 with 1 Axes>"
      ]
     },
     "metadata": {
      "needs_background": "light"
     },
     "output_type": "display_data"
    }
   ],
   "source": [
    "from sklearn.metrics import roc_curve, roc_auc_score\n",
    "\n",
    "auc_score = roc_auc_score(y_test, grid_model.predict_proba(X_test)[:,1])\n",
    "false_positive, true_positive, _ = roc_curve(\n",
    "    y_test, grid_model.predict_proba(X_test)[:, 1]\n",
    ")\n",
    "\n",
    "plt.plot(false_positive, true_positive, marker=\".\", label=\"Decision Tree\")\n",
    "plt.plot([[0, 0], [1.0, 1.0]], linestyle=\"--\", label=\"line\")\n",
    "plt.title(f\"ROC Curve for Unhealthy Comment; AUC: {auc_score}\")\n",
    "plt.xlabel(\"False Positive Rate\")\n",
    "plt.ylabel(\"True Positive Rate\")\n",
    "plt.legend\n",
    "plt.show()"
   ]
  },
  {
   "cell_type": "markdown",
   "metadata": {},
   "source": [
    "### 4. Applying ensemble method"
   ]
  },
  {
   "cell_type": "markdown",
   "metadata": {},
   "source": [
    "#### 4.1. Hard Voting classifier"
   ]
  },
  {
   "cell_type": "code",
   "execution_count": 11,
   "metadata": {},
   "outputs": [
    {
     "name": "stdout",
     "output_type": "stream",
     "text": [
      "LogisticRegression 0.9691513623814668\n",
      "RandomForestClassifier 0.9772041973223978\n",
      "SVC 0.9707546034420509\n",
      "VotingClassifier 0.9716277951430633\n"
     ]
    }
   ],
   "source": [
    "from sklearn.svm import SVC\n",
    "from sklearn.ensemble import VotingClassifier\n",
    "from sklearn.metrics import accuracy_score\n",
    "\n",
    "svc = SVC()\n",
    "rfc = RandomForestClassifier()\n",
    "\n",
    "voting_clf = VotingClassifier(\n",
    "    estimators=[(\"lr\", lr), (\"rfc\", rfc), (\"svc\", svc)],\n",
    "    voting=\"hard\",\n",
    ")\n",
    "voting_clf.fit(X_train, y_train)\n",
    "\n",
    "for clf in (lr, rfc, svc, voting_clf):\n",
    "    clf.fit(X_train, y_train)\n",
    "    y_pred = clf.predict(X_test)\n",
    "    print(clf.__class__.__name__, f1_score(y_test, y_pred))"
   ]
  },
  {
   "cell_type": "code",
   "execution_count": 12,
   "metadata": {},
   "outputs": [
    {
     "name": "stdout",
     "output_type": "stream",
     "text": [
      "              precision    recall  f1-score   support\n",
      "\n",
      "           0       0.70      0.46      0.56       320\n",
      "           1       0.96      0.98      0.97      4105\n",
      "\n",
      "    accuracy                           0.95      4425\n",
      "   macro avg       0.83      0.72      0.76      4425\n",
      "weighted avg       0.94      0.95      0.94      4425\n",
      "\n"
     ]
    }
   ],
   "source": [
    "print(classification_report(y_test, voting_clf.predict(X_test)))"
   ]
  },
  {
   "cell_type": "markdown",
   "metadata": {},
   "source": [
    "**Comment:** *The f1-score is improved by hard voting, but recall score for class 0 is lower than decision tree model.*"
   ]
  },
  {
   "cell_type": "markdown",
   "metadata": {},
   "source": [
    "#### 4.2. Soft Voting classifier"
   ]
  },
  {
   "cell_type": "code",
   "execution_count": 13,
   "metadata": {},
   "outputs": [
    {
     "name": "stdout",
     "output_type": "stream",
     "text": [
      "LogisticRegression 0.9691513623814668\n",
      "RandomForestClassifier 0.9770918736435977\n",
      "SVC 0.9707546034420509\n",
      "VotingClassifier 0.9711538461538461\n"
     ]
    }
   ],
   "source": [
    "soft_svc = SVC(probability=True)\n",
    "\n",
    "soft_voting_clf = VotingClassifier(\n",
    "    estimators=[(\"lr\", lr), (\"rf\", rfc), (\"soft svc\", soft_svc)],\n",
    "    voting=\"soft\",\n",
    ")\n",
    "soft_voting_clf.fit(X_train, y_train)\n",
    "\n",
    "for clf in (lr, rfc, svc, soft_voting_clf):\n",
    "    clf.fit(X_train, y_train)\n",
    "    y_pred = clf.predict(X_test)\n",
    "    print(clf.__class__.__name__, f1_score(y_test, y_pred))"
   ]
  },
  {
   "cell_type": "code",
   "execution_count": 14,
   "metadata": {},
   "outputs": [
    {
     "name": "stdout",
     "output_type": "stream",
     "text": [
      "              precision    recall  f1-score   support\n",
      "\n",
      "           0       0.69      0.45      0.55       320\n",
      "           1       0.96      0.98      0.97      4105\n",
      "\n",
      "    accuracy                           0.95      4425\n",
      "   macro avg       0.82      0.72      0.76      4425\n",
      "weighted avg       0.94      0.95      0.94      4425\n",
      "\n"
     ]
    }
   ],
   "source": [
    "print(classification_report(y_test, soft_voting_clf.predict(X_test)))"
   ]
  },
  {
   "cell_type": "markdown",
   "metadata": {},
   "source": [
    "#### 4.3. Bagging Classifier"
   ]
  },
  {
   "cell_type": "code",
   "execution_count": 15,
   "metadata": {
    "scrolled": true
   },
   "outputs": [
    {
     "name": "stdout",
     "output_type": "stream",
     "text": [
      "0.9701259748050389\n",
      "              precision    recall  f1-score   support\n",
      "\n",
      "           0       0.68      0.42      0.52       320\n",
      "           1       0.96      0.98      0.97      4105\n",
      "\n",
      "    accuracy                           0.94      4425\n",
      "   macro avg       0.82      0.70      0.74      4425\n",
      "weighted avg       0.94      0.94      0.94      4425\n",
      "\n"
     ]
    }
   ],
   "source": [
    "from sklearn.ensemble import BaggingClassifier\n",
    "from sklearn.tree import DecisionTreeClassifier\n",
    "from sklearn.metrics import accuracy_score\n",
    "\n",
    "bag_clf = BaggingClassifier(\n",
    "    DecisionTreeClassifier(),\n",
    "    n_estimators=500,\n",
    "    max_samples=100,\n",
    "    bootstrap=True,\n",
    "    n_jobs=-1,\n",
    ")\n",
    "bag_clf.fit(X_train, y_train)\n",
    "y_pred = bag_clf.predict(X_test)\n",
    "print(f1_score(y_test, y_pred))\n",
    "print(classification_report(y_test, bag_clf.predict(X_test)))"
   ]
  },
  {
   "cell_type": "markdown",
   "metadata": {},
   "source": [
    "**Comment**: *The bagging classifier perform worse than voting classifier, shown by lower f1-score and lower recall score for class 0.*"
   ]
  },
  {
   "cell_type": "code",
   "execution_count": 16,
   "metadata": {},
   "outputs": [],
   "source": [
    "#### 4.4. AdaBoost Classifier"
   ]
  },
  {
   "cell_type": "code",
   "execution_count": 17,
   "metadata": {
    "scrolled": true
   },
   "outputs": [
    {
     "name": "stdout",
     "output_type": "stream",
     "text": [
      "              precision    recall  f1-score   support\n",
      "\n",
      "           0       0.66      0.41      0.50       320\n",
      "           1       0.96      0.98      0.97      4105\n",
      "\n",
      "    accuracy                           0.94      4425\n",
      "   macro avg       0.81      0.69      0.74      4425\n",
      "weighted avg       0.93      0.94      0.94      4425\n",
      "\n",
      "0.9686131386861314\n"
     ]
    }
   ],
   "source": [
    "from sklearn.ensemble import AdaBoostClassifier\n",
    "ab_clf = AdaBoostClassifier(n_estimators=100, random_state=0)\n",
    "ab_clf.fit(X_train, y_train)\n",
    "print(classification_report(y_test, ab_clf.predict(X_test)))\n",
    "print(f1_score(y_test, dtc.predict(X_test)))"
   ]
  },
  {
   "cell_type": "markdown",
   "metadata": {},
   "source": [
    "**Comment**: *The AdaBoost classifier perform even worse than bagging classifier. "
   ]
  },
  {
   "cell_type": "markdown",
   "metadata": {},
   "source": [
    "### 5. Apply SMOTE for balancing data\n",
    "\n",
    "One approach to addressing imbalanced datasets is to oversample the minority class by adding duplicates of minority class examples. However, it might cause overfitting. To mitigate the overfitting problem, a subset of data is taken from the minority class as an example and then new synthetic similar instances are created. These synthetic instances are then added to the original dataset. That is how **Synthetic Minority Oversampling Technique**, or SMOTE works. Since SMOTE is not very effective for high dimensional data, I chose only boolean typed variables."
   ]
  },
  {
   "cell_type": "code",
   "execution_count": 18,
   "metadata": {},
   "outputs": [
    {
     "name": "stdout",
     "output_type": "stream",
     "text": [
      "Requirement already satisfied: imbalanced-learn in c:\\users\\taanh\\anaconda3\\lib\\site-packages (0.7.0)Note: you may need to restart the kernel to use updated packages.\n",
      "\n",
      "Requirement already satisfied: joblib>=0.11 in c:\\users\\taanh\\anaconda3\\lib\\site-packages (from imbalanced-learn) (0.16.0)\n",
      "Requirement already satisfied: scikit-learn>=0.23 in c:\\users\\taanh\\anaconda3\\lib\\site-packages (from imbalanced-learn) (0.23.1)\n",
      "Requirement already satisfied: scipy>=0.19.1 in c:\\users\\taanh\\anaconda3\\lib\\site-packages (from imbalanced-learn) (1.5.0)\n",
      "Requirement already satisfied: numpy>=1.13.3 in c:\\users\\taanh\\anaconda3\\lib\\site-packages (from imbalanced-learn) (1.18.5)\n",
      "Requirement already satisfied: threadpoolctl>=2.0.0 in c:\\users\\taanh\\anaconda3\\lib\\site-packages (from scikit-learn>=0.23->imbalanced-learn) (2.1.0)\n"
     ]
    }
   ],
   "source": [
    "pip install imbalanced-learn"
   ]
  },
  {
   "cell_type": "code",
   "execution_count": 19,
   "metadata": {},
   "outputs": [
    {
     "name": "stdout",
     "output_type": "stream",
     "text": [
      "Counter({0: 32848, 1: 32848})\n"
     ]
    }
   ],
   "source": [
    "from imblearn.over_sampling import SMOTE\n",
    "from collections import Counter\n",
    "\n",
    "oversample = SMOTE()\n",
    "features = [\"antagonise\", \"condescending\", \"dismissive\", \"generalisation\", \"generalisation_unfair\", \"hostile\", \"sarcastic\"]\n",
    "smote_X_train, smote_y_train = oversample.fit_resample(X_train[features], y_train)\n",
    "counter = Counter(smote_y_train)\n",
    "print(counter)"
   ]
  },
  {
   "cell_type": "code",
   "execution_count": 20,
   "metadata": {},
   "outputs": [
    {
     "name": "stdout",
     "output_type": "stream",
     "text": [
      "              precision    recall  f1-score   support\n",
      "\n",
      "           0       0.40      0.65      0.50       320\n",
      "           1       0.97      0.92      0.95      4105\n",
      "\n",
      "    accuracy                           0.90      4425\n",
      "   macro avg       0.69      0.79      0.72      4425\n",
      "weighted avg       0.93      0.90      0.91      4425\n",
      "\n"
     ]
    }
   ],
   "source": [
    "dtc = DecisionTreeClassifier(random_state=42)\n",
    "dtc.fit(smote_X_train, smote_y_train)\n",
    "print(classification_report(y_test, dtc.predict(X_test[features])))"
   ]
  },
  {
   "cell_type": "code",
   "execution_count": 21,
   "metadata": {},
   "outputs": [
    {
     "name": "stdout",
     "output_type": "stream",
     "text": [
      "              precision    recall  f1-score   support\n",
      "\n",
      "           0       0.40      0.65      0.49       320\n",
      "           1       0.97      0.92      0.95      4105\n",
      "\n",
      "    accuracy                           0.90      4425\n",
      "   macro avg       0.68      0.79      0.72      4425\n",
      "weighted avg       0.93      0.90      0.91      4425\n",
      "\n",
      "0.9465267366316842\n"
     ]
    }
   ],
   "source": [
    "soft_voting_clf.fit(smote_X_train, smote_y_train)\n",
    "print(classification_report(y_test, soft_voting_clf.predict(X_test[features])))\n",
    "print(f1_score(y_test, soft_voting_clf.predict(X_test[features])))"
   ]
  },
  {
   "cell_type": "code",
   "execution_count": 22,
   "metadata": {
    "scrolled": true
   },
   "outputs": [
    {
     "name": "stdout",
     "output_type": "stream",
     "text": [
      "0.9466583385384135\n",
      "              precision    recall  f1-score   support\n",
      "\n",
      "           0       0.40      0.65      0.49       320\n",
      "           1       0.97      0.92      0.95      4105\n",
      "\n",
      "    accuracy                           0.90      4425\n",
      "   macro avg       0.68      0.79      0.72      4425\n",
      "weighted avg       0.93      0.90      0.91      4425\n",
      "\n"
     ]
    }
   ],
   "source": [
    "voting_clf.fit(smote_X_train, smote_y_train)\n",
    "print(f1_score(y_test, voting_clf.predict(X_test[features])))\n",
    "print(classification_report(y_test, voting_clf.predict(X_test[features])))"
   ]
  },
  {
   "cell_type": "markdown",
   "metadata": {},
   "source": [
    "**Comment**: *Though f1-score of this model is lower than the previous ones (0.94 compared to 0.97), the recall for class 0 is much higher (0.65 compared to 0.56). It means that 65% of unhealthy comments can be detected by this model, pretty okay.This is my final model!*"
   ]
  },
  {
   "cell_type": "code",
   "execution_count": null,
   "metadata": {},
   "outputs": [],
   "source": []
  }
 ],
 "metadata": {
  "kernelspec": {
   "display_name": "Python 3",
   "language": "python",
   "name": "python3"
  },
  "language_info": {
   "codemirror_mode": {
    "name": "ipython",
    "version": 3
   },
   "file_extension": ".py",
   "mimetype": "text/x-python",
   "name": "python",
   "nbconvert_exporter": "python",
   "pygments_lexer": "ipython3",
   "version": "3.8.3"
  }
 },
 "nbformat": 4,
 "nbformat_minor": 4
}
